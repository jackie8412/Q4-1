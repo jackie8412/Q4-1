{
 "cells": [
  {
   "cell_type": "code",
   "execution_count": 1,
   "metadata": {
    "ExecuteTime": {
     "end_time": "2019-03-28T14:28:17.185462Z",
     "start_time": "2019-03-28T14:28:16.513617Z"
    }
   },
   "outputs": [],
   "source": [
    "import matplotlib.pyplot as plt\n",
    "import numpy as np\n",
    "from sklearn import tree\n",
    "import pandas as pd\n"
   ]
  },
  {
   "cell_type": "code",
   "execution_count": 2,
   "metadata": {
    "ExecuteTime": {
     "end_time": "2019-03-28T14:28:17.310493Z",
     "start_time": "2019-03-28T14:28:17.185462Z"
    }
   },
   "outputs": [],
   "source": [
    "example=pd.read_csv(\"bank-additional-full.csv\",sep=\";\")"
   ]
  },
  {
   "cell_type": "code",
   "execution_count": 3,
   "metadata": {
    "ExecuteTime": {
     "end_time": "2019-03-28T14:28:17.326085Z",
     "start_time": "2019-03-28T14:28:17.310493Z"
    }
   },
   "outputs": [],
   "source": [
    "from sklearn.tree import DecisionTreeClassifier\n",
    "from sklearn.model_selection import train_test_split\n",
    "from sklearn.feature_extraction.text import CountVectorizer\n",
    "vectorizer = CountVectorizer()\n"
   ]
  },
  {
   "cell_type": "code",
   "execution_count": 4,
   "metadata": {
    "ExecuteTime": {
     "end_time": "2019-03-28T14:28:17.388584Z",
     "start_time": "2019-03-28T14:28:17.326085Z"
    }
   },
   "outputs": [],
   "source": [
    "example[\"job\"]=example[\"job\"].map({\"admin.\":0,\"blue-collar\":1,\"entrepreneur\":2,\"housemaid\":3,\"management\":4,\"retired\":5,\"self-employed\":6,\"services\":7,\"student\":8,\"technician\":9,\"unemployed\":10,\"unknown\":11})\n",
    "example[\"marital\"]=example[\"marital\"].map({\"divorced\":0,\"married\":1,\"single\":2,\"unknown\":3})\n",
    "example[\"education\"]=example[\"education\"].map({\"basic.4y\":0,\"basic.6y\":1,\"basic.9y\":2,\"high.school\":3,\"illiterate\":4,\"professional.course\":5,\"university.degree\":6,\"unknown\":7})\n",
    "example[\"default\"]=example[\"default\"].map({\"no\":0,\"yes\":1,\"unknown\":2})\n",
    "example[\"housing\"]=example[\"housing\"].map({\"no\":0,\"yes\":1,\"unknown\":2})\n",
    "example[\"loan\"]=example[\"loan\"].map({\"no\":0,\"yes\":1,\"unknown\":2})\n",
    "example[\"contact\"]=example[\"contact\"].map({\"cellular\":0,\"telephone\":1})\n",
    "example[\"month\"]=example[\"month\"].map({\"jan\":0,\"feb\":1,\"mar\":2,\"apr\":3,\"may\":4,\"jun\":5,\"jul\":6,\"aug\":7,\"sep\":8,\"oct\":9,\"nov\":10,\"dec\":11})\n",
    "example[\"day_of_week\"]=example[\"day_of_week\"].map({\"mon\":0,\"tue\":1,\"wed\":2,\"thu\":3,\"fri\":4})\n",
    "example[\"poutcome\"]=example[\"poutcome\"].map({\"failure\":0,\"nonexistent\":1,\"success\":2})\n",
    "example[\"y\"]=example[\"y\"].map({\"yes\":0,\"no\":1})"
   ]
  },
  {
   "cell_type": "code",
   "execution_count": 5,
   "metadata": {
    "ExecuteTime": {
     "end_time": "2019-03-28T14:28:17.451086Z",
     "start_time": "2019-03-28T14:28:17.388584Z"
    }
   },
   "outputs": [],
   "source": [
    "x_train, x_test, y_train, y_test = train_test_split(example[[\"age\",\"job\",\"marital\",\"education\",\"default\",\"housing\",\"loan\",\"contact\",\"month\",\"day_of_week\",\"duration\",\"campaign\",\"pdays\",\"previous\",\"poutcome\",\"emp.var.rate\",\"cons.price.idx\",\"cons.conf.idx\",\"euribor3m\",\"nr.employed\"]],example[['y']],test_size=0.3)"
   ]
  },
  {
   "cell_type": "code",
   "execution_count": 6,
   "metadata": {
    "ExecuteTime": {
     "end_time": "2019-03-28T14:28:17.529210Z",
     "start_time": "2019-03-28T14:28:17.451086Z"
    }
   },
   "outputs": [
    {
     "data": {
      "text/plain": [
       "0.9094440398154892"
      ]
     },
     "execution_count": 6,
     "metadata": {},
     "output_type": "execute_result"
    }
   ],
   "source": [
    "dtree = DecisionTreeClassifier(criterion = 'entropy', max_depth = 7)\n",
    "dtree.fit(x_train,y_train)\n",
    "dtree.score(x_test,y_test['y'])"
   ]
  },
  {
   "cell_type": "code",
   "execution_count": 7,
   "metadata": {
    "ExecuteTime": {
     "end_time": "2019-03-28T14:28:17.544837Z",
     "start_time": "2019-03-28T14:28:17.529210Z"
    }
   },
   "outputs": [
    {
     "name": "stdout",
     "output_type": "stream",
     "text": [
      "準確率為\n"
     ]
    },
    {
     "data": {
      "text/plain": [
       "0.9094440398154892"
      ]
     },
     "execution_count": 7,
     "metadata": {},
     "output_type": "execute_result"
    }
   ],
   "source": [
    "print(\"準確率為\")\n",
    "dtree.score(x_test,y_test['y'])"
   ]
  }
 ],
 "metadata": {
  "kernelspec": {
   "display_name": "Python [default]",
   "language": "python",
   "name": "python3"
  },
  "language_info": {
   "codemirror_mode": {
    "name": "ipython",
    "version": 3
   },
   "file_extension": ".py",
   "mimetype": "text/x-python",
   "name": "python",
   "nbconvert_exporter": "python",
   "pygments_lexer": "ipython3",
   "version": "3.6.3"
  },
  "toc": {
   "base_numbering": 1,
   "nav_menu": {},
   "number_sections": true,
   "sideBar": true,
   "skip_h1_title": false,
   "title_cell": "Table of Contents",
   "title_sidebar": "Contents",
   "toc_cell": false,
   "toc_position": {},
   "toc_section_display": true,
   "toc_window_display": false
  },
  "varInspector": {
   "cols": {
    "lenName": 16,
    "lenType": 16,
    "lenVar": 40
   },
   "kernels_config": {
    "python": {
     "delete_cmd_postfix": "",
     "delete_cmd_prefix": "del ",
     "library": "var_list.py",
     "varRefreshCmd": "print(var_dic_list())"
    },
    "r": {
     "delete_cmd_postfix": ") ",
     "delete_cmd_prefix": "rm(",
     "library": "var_list.r",
     "varRefreshCmd": "cat(var_dic_list()) "
    }
   },
   "types_to_exclude": [
    "module",
    "function",
    "builtin_function_or_method",
    "instance",
    "_Feature"
   ],
   "window_display": false
  }
 },
 "nbformat": 4,
 "nbformat_minor": 2
}
